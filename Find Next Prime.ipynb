{
 "cells": [
  {
   "cell_type": "code",
   "execution_count": 6,
   "metadata": {
    "collapsed": true
   },
   "outputs": [],
   "source": [
    "\"\"\"\n",
    "checks to see if the number is prime\n",
    "\"\"\"\n",
    "def isitprime(x):\n",
    "    if x == 2:\n",
    "        return True\n",
    "    if x%2 == 0:\n",
    "        return False\n",
    "    for i in range(3,int(x**0.5)+1,2):\n",
    "        if x%i == 0:\n",
    "            return False\n",
    "    return True"
   ]
  },
  {
   "cell_type": "code",
   "execution_count": 7,
   "metadata": {},
   "outputs": [],
   "source": [
    "\"\"\"\n",
    "returns the next prime number\n",
    "\"\"\"\n",
    "def nextprime(currentprime):\n",
    "    newprime = currentprime + 1\n",
    "    while True:\n",
    "        if not isitprime(newprime):\n",
    "            newprime += 1\n",
    "        else:\n",
    "            break\n",
    "            \n",
    "    return newprime"
   ]
  },
  {
   "cell_type": "code",
   "execution_count": null,
   "metadata": {},
   "outputs": [],
   "source": [
    "\"\"\"\n",
    "wrapper\n",
    "\"\"\"\n",
    "def main():\n",
    "    currentprime = 2\n",
    "    while True:\n",
    "        answer = input('Do you want to see the next prime (Y/N?)')\n",
    "    \n",
    "    \n",
    "        if answer.lower().startswith('y'):\n",
    "            print(currentprime)\n",
    "            currentprime = nextprime(currentprime)\n",
    "        \n",
    "        else:\n",
    "            print('Phew I was getting tired of calculating all these primes')\n",
    "            break\n",
    "\n",
    "if __name__ == '__main__':\n",
    "    main()"
   ]
  },
  {
   "cell_type": "code",
   "execution_count": null,
   "metadata": {
    "collapsed": true
   },
   "outputs": [],
   "source": []
  }
 ],
 "metadata": {
  "kernelspec": {
   "display_name": "Python 3",
   "language": "python",
   "name": "python3"
  },
  "language_info": {
   "codemirror_mode": {
    "name": "ipython",
    "version": 3
   },
   "file_extension": ".py",
   "mimetype": "text/x-python",
   "name": "python",
   "nbconvert_exporter": "python",
   "pygments_lexer": "ipython3",
   "version": "3.6.3"
  }
 },
 "nbformat": 4,
 "nbformat_minor": 2
}
